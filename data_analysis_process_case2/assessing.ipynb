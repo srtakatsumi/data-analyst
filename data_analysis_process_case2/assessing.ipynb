{
 "cells": [
  {
   "cell_type": "markdown",
   "id": "ee9753b4",
   "metadata": {},
   "source": [
    "Dataset: https://www.epa.gov/compliance-and-fuel-economy-data/data-cars-used-testing-fuel-economy"
   ]
  },
  {
   "cell_type": "code",
   "execution_count": 4,
   "id": "7105ceeb",
   "metadata": {},
   "outputs": [],
   "source": [
    "import numpy as np\n",
    "import pandas as pd\n",
    "import matplotlib.pyplot as plt\n",
    "%matplotlib inline\n",
    "import seaborn as sns\n",
    "sns.set_style('darkgrid')\n",
    "\n",
    "alpha08 = pd.read_csv('all_alpha_08.csv', sep = ',')\n",
    "alpha18 = pd.read_csv('all_alpha_18.csv', sep = ',')"
   ]
  },
  {
   "cell_type": "code",
   "execution_count": 33,
   "id": "b9dcc678",
   "metadata": {},
   "outputs": [
    {
     "data": {
      "text/html": [
       "<div>\n",
       "<style scoped>\n",
       "    .dataframe tbody tr th:only-of-type {\n",
       "        vertical-align: middle;\n",
       "    }\n",
       "\n",
       "    .dataframe tbody tr th {\n",
       "        vertical-align: top;\n",
       "    }\n",
       "\n",
       "    .dataframe thead th {\n",
       "        text-align: right;\n",
       "    }\n",
       "</style>\n",
       "<table border=\"1\" class=\"dataframe\">\n",
       "  <thead>\n",
       "    <tr style=\"text-align: right;\">\n",
       "      <th></th>\n",
       "      <th>Displ</th>\n",
       "      <th>Unadj Cmb MPG</th>\n",
       "    </tr>\n",
       "  </thead>\n",
       "  <tbody>\n",
       "    <tr>\n",
       "      <th>count</th>\n",
       "      <td>2404.000000</td>\n",
       "      <td>2205.000000</td>\n",
       "    </tr>\n",
       "    <tr>\n",
       "      <th>mean</th>\n",
       "      <td>3.748918</td>\n",
       "      <td>23.916104</td>\n",
       "    </tr>\n",
       "    <tr>\n",
       "      <th>std</th>\n",
       "      <td>1.335785</td>\n",
       "      <td>6.366170</td>\n",
       "    </tr>\n",
       "    <tr>\n",
       "      <th>min</th>\n",
       "      <td>1.300000</td>\n",
       "      <td>10.018400</td>\n",
       "    </tr>\n",
       "    <tr>\n",
       "      <th>25%</th>\n",
       "      <td>2.500000</td>\n",
       "      <td>19.113900</td>\n",
       "    </tr>\n",
       "    <tr>\n",
       "      <th>50%</th>\n",
       "      <td>3.500000</td>\n",
       "      <td>23.921300</td>\n",
       "    </tr>\n",
       "    <tr>\n",
       "      <th>75%</th>\n",
       "      <td>4.800000</td>\n",
       "      <td>27.869300</td>\n",
       "    </tr>\n",
       "    <tr>\n",
       "      <th>max</th>\n",
       "      <td>8.400000</td>\n",
       "      <td>65.777800</td>\n",
       "    </tr>\n",
       "  </tbody>\n",
       "</table>\n",
       "</div>"
      ],
      "text/plain": [
       "             Displ  Unadj Cmb MPG\n",
       "count  2404.000000    2205.000000\n",
       "mean      3.748918      23.916104\n",
       "std       1.335785       6.366170\n",
       "min       1.300000      10.018400\n",
       "25%       2.500000      19.113900\n",
       "50%       3.500000      23.921300\n",
       "75%       4.800000      27.869300\n",
       "max       8.400000      65.777800"
      ]
     },
     "execution_count": 33,
     "metadata": {},
     "output_type": "execute_result"
    }
   ],
   "source": [
    "alpha08.describe()"
   ]
  },
  {
   "cell_type": "code",
   "execution_count": 32,
   "id": "9aeeb599",
   "metadata": {},
   "outputs": [
    {
     "data": {
      "text/html": [
       "<div>\n",
       "<style scoped>\n",
       "    .dataframe tbody tr th:only-of-type {\n",
       "        vertical-align: middle;\n",
       "    }\n",
       "\n",
       "    .dataframe tbody tr th {\n",
       "        vertical-align: top;\n",
       "    }\n",
       "\n",
       "    .dataframe thead th {\n",
       "        text-align: right;\n",
       "    }\n",
       "</style>\n",
       "<table border=\"1\" class=\"dataframe\">\n",
       "  <thead>\n",
       "    <tr style=\"text-align: right;\">\n",
       "      <th></th>\n",
       "      <th>Displ</th>\n",
       "      <th>Cyl</th>\n",
       "      <th>Air Pollution Score</th>\n",
       "      <th>Greenhouse Gas Score</th>\n",
       "    </tr>\n",
       "  </thead>\n",
       "  <tbody>\n",
       "    <tr>\n",
       "      <th>count</th>\n",
       "      <td>1609.000000</td>\n",
       "      <td>1609.000000</td>\n",
       "      <td>1611.000000</td>\n",
       "      <td>1611.000000</td>\n",
       "    </tr>\n",
       "    <tr>\n",
       "      <th>mean</th>\n",
       "      <td>3.055687</td>\n",
       "      <td>5.479180</td>\n",
       "      <td>3.958411</td>\n",
       "      <td>4.711359</td>\n",
       "    </tr>\n",
       "    <tr>\n",
       "      <th>std</th>\n",
       "      <td>1.344574</td>\n",
       "      <td>1.749121</td>\n",
       "      <td>1.824303</td>\n",
       "      <td>1.657429</td>\n",
       "    </tr>\n",
       "    <tr>\n",
       "      <th>min</th>\n",
       "      <td>1.200000</td>\n",
       "      <td>3.000000</td>\n",
       "      <td>1.000000</td>\n",
       "      <td>1.000000</td>\n",
       "    </tr>\n",
       "    <tr>\n",
       "      <th>25%</th>\n",
       "      <td>2.000000</td>\n",
       "      <td>4.000000</td>\n",
       "      <td>3.000000</td>\n",
       "      <td>4.000000</td>\n",
       "    </tr>\n",
       "    <tr>\n",
       "      <th>50%</th>\n",
       "      <td>3.000000</td>\n",
       "      <td>6.000000</td>\n",
       "      <td>3.000000</td>\n",
       "      <td>5.000000</td>\n",
       "    </tr>\n",
       "    <tr>\n",
       "      <th>75%</th>\n",
       "      <td>3.600000</td>\n",
       "      <td>6.000000</td>\n",
       "      <td>5.000000</td>\n",
       "      <td>6.000000</td>\n",
       "    </tr>\n",
       "    <tr>\n",
       "      <th>max</th>\n",
       "      <td>8.000000</td>\n",
       "      <td>16.000000</td>\n",
       "      <td>10.000000</td>\n",
       "      <td>10.000000</td>\n",
       "    </tr>\n",
       "  </tbody>\n",
       "</table>\n",
       "</div>"
      ],
      "text/plain": [
       "             Displ          Cyl  Air Pollution Score  Greenhouse Gas Score\n",
       "count  1609.000000  1609.000000          1611.000000           1611.000000\n",
       "mean      3.055687     5.479180             3.958411              4.711359\n",
       "std       1.344574     1.749121             1.824303              1.657429\n",
       "min       1.200000     3.000000             1.000000              1.000000\n",
       "25%       2.000000     4.000000             3.000000              4.000000\n",
       "50%       3.000000     6.000000             3.000000              5.000000\n",
       "75%       3.600000     6.000000             5.000000              6.000000\n",
       "max       8.000000    16.000000            10.000000             10.000000"
      ]
     },
     "execution_count": 32,
     "metadata": {},
     "output_type": "execute_result"
    }
   ],
   "source": [
    "alpha18.describe()"
   ]
  },
  {
   "cell_type": "code",
   "execution_count": 6,
   "id": "3c51097f",
   "metadata": {},
   "outputs": [
    {
     "data": {
      "text/plain": [
       "(2404, 18)"
      ]
     },
     "execution_count": 6,
     "metadata": {},
     "output_type": "execute_result"
    }
   ],
   "source": [
    "#number of samples in each dataset\n",
    "#number of columns in each dataset\n",
    "alpha08.shape"
   ]
  },
  {
   "cell_type": "code",
   "execution_count": 7,
   "id": "0a16254c",
   "metadata": {},
   "outputs": [
    {
     "data": {
      "text/plain": [
       "(1611, 18)"
      ]
     },
     "execution_count": 7,
     "metadata": {},
     "output_type": "execute_result"
    }
   ],
   "source": [
    "alpha18.shape"
   ]
  },
  {
   "cell_type": "code",
   "execution_count": 15,
   "id": "ba4d8955",
   "metadata": {},
   "outputs": [
    {
     "data": {
      "text/plain": [
       "0"
      ]
     },
     "execution_count": 15,
     "metadata": {},
     "output_type": "execute_result"
    }
   ],
   "source": [
    "#duplicate rows in each dataset\n",
    "sum(alpha18.duplicated())"
   ]
  },
  {
   "cell_type": "code",
   "execution_count": 16,
   "id": "1687b916",
   "metadata": {},
   "outputs": [
    {
     "data": {
      "text/plain": [
       "25"
      ]
     },
     "execution_count": 16,
     "metadata": {},
     "output_type": "execute_result"
    }
   ],
   "source": [
    "sum(alpha08.duplicated())"
   ]
  },
  {
   "cell_type": "code",
   "execution_count": 8,
   "id": "a8a704ff",
   "metadata": {},
   "outputs": [
    {
     "name": "stdout",
     "output_type": "stream",
     "text": [
      "<class 'pandas.core.frame.DataFrame'>\n",
      "RangeIndex: 2404 entries, 0 to 2403\n",
      "Data columns (total 18 columns):\n",
      " #   Column                Non-Null Count  Dtype  \n",
      "---  ------                --------------  -----  \n",
      " 0   Model                 2404 non-null   object \n",
      " 1   Displ                 2404 non-null   float64\n",
      " 2   Cyl                   2205 non-null   object \n",
      " 3   Trans                 2205 non-null   object \n",
      " 4   Drive                 2311 non-null   object \n",
      " 5   Fuel                  2404 non-null   object \n",
      " 6   Sales Area            2404 non-null   object \n",
      " 7   Stnd                  2404 non-null   object \n",
      " 8   Underhood ID          2404 non-null   object \n",
      " 9   Veh Class             2404 non-null   object \n",
      " 10  Air Pollution Score   2404 non-null   object \n",
      " 11  FE Calc Appr          2205 non-null   object \n",
      " 12  City MPG              2205 non-null   object \n",
      " 13  Hwy MPG               2205 non-null   object \n",
      " 14  Cmb MPG               2205 non-null   object \n",
      " 15  Unadj Cmb MPG         2205 non-null   float64\n",
      " 16  Greenhouse Gas Score  2205 non-null   object \n",
      " 17  SmartWay              2404 non-null   object \n",
      "dtypes: float64(2), object(16)\n",
      "memory usage: 338.2+ KB\n"
     ]
    }
   ],
   "source": [
    "#datatypes of columns\n",
    "alpha08.info()"
   ]
  },
  {
   "cell_type": "code",
   "execution_count": 10,
   "id": "37c0f30f",
   "metadata": {},
   "outputs": [
    {
     "name": "stdout",
     "output_type": "stream",
     "text": [
      "<class 'pandas.core.frame.DataFrame'>\n",
      "RangeIndex: 1611 entries, 0 to 1610\n",
      "Data columns (total 18 columns):\n",
      " #   Column                Non-Null Count  Dtype  \n",
      "---  ------                --------------  -----  \n",
      " 0   Model                 1611 non-null   object \n",
      " 1   Displ                 1609 non-null   float64\n",
      " 2   Cyl                   1609 non-null   float64\n",
      " 3   Trans                 1611 non-null   object \n",
      " 4   Drive                 1611 non-null   object \n",
      " 5   Fuel                  1611 non-null   object \n",
      " 6   Cert Region           1611 non-null   object \n",
      " 7   Stnd                  1611 non-null   object \n",
      " 8   Stnd Description      1611 non-null   object \n",
      " 9   Underhood ID          1611 non-null   object \n",
      " 10  Veh Class             1611 non-null   object \n",
      " 11  Air Pollution Score   1611 non-null   int64  \n",
      " 12  City MPG              1611 non-null   object \n",
      " 13  Hwy MPG               1611 non-null   object \n",
      " 14  Cmb MPG               1611 non-null   object \n",
      " 15  Greenhouse Gas Score  1611 non-null   int64  \n",
      " 16  SmartWay              1611 non-null   object \n",
      " 17  Comb CO2              1611 non-null   object \n",
      "dtypes: float64(2), int64(2), object(14)\n",
      "memory usage: 226.7+ KB\n"
     ]
    }
   ],
   "source": [
    "alpha18.info()"
   ]
  },
  {
   "cell_type": "code",
   "execution_count": 19,
   "id": "52e6354d",
   "metadata": {},
   "outputs": [
    {
     "data": {
      "text/plain": [
       "Model                   0\n",
       "Displ                   2\n",
       "Cyl                     2\n",
       "Trans                   0\n",
       "Drive                   0\n",
       "Fuel                    0\n",
       "Cert Region             0\n",
       "Stnd                    0\n",
       "Stnd Description        0\n",
       "Underhood ID            0\n",
       "Veh Class               0\n",
       "Air Pollution Score     0\n",
       "City MPG                0\n",
       "Hwy MPG                 0\n",
       "Cmb MPG                 0\n",
       "Greenhouse Gas Score    0\n",
       "SmartWay                0\n",
       "Comb CO2                0\n",
       "dtype: int64"
      ]
     },
     "execution_count": 19,
     "metadata": {},
     "output_type": "execute_result"
    }
   ],
   "source": [
    "#features with missing values\n",
    "alpha18.isnull().sum()"
   ]
  },
  {
   "cell_type": "code",
   "execution_count": 22,
   "id": "1e164da5",
   "metadata": {},
   "outputs": [
    {
     "data": {
      "text/plain": [
       "Model                     0\n",
       "Displ                     0\n",
       "Cyl                     199\n",
       "Trans                   199\n",
       "Drive                    93\n",
       "Fuel                      0\n",
       "Sales Area                0\n",
       "Stnd                      0\n",
       "Underhood ID              0\n",
       "Veh Class                 0\n",
       "Air Pollution Score       0\n",
       "FE Calc Appr            199\n",
       "City MPG                199\n",
       "Hwy MPG                 199\n",
       "Cmb MPG                 199\n",
       "Unadj Cmb MPG           199\n",
       "Greenhouse Gas Score    199\n",
       "SmartWay                  0\n",
       "dtype: int64"
      ]
     },
     "execution_count": 22,
     "metadata": {},
     "output_type": "execute_result"
    }
   ],
   "source": [
    "alpha08.isnull().sum()"
   ]
  },
  {
   "cell_type": "code",
   "execution_count": 31,
   "id": "022074fb",
   "metadata": {},
   "outputs": [
    {
     "ename": "AttributeError",
     "evalue": "'DataFrame' object has no attribute 'alpha08'",
     "output_type": "error",
     "traceback": [
      "\u001b[1;31m---------------------------------------------------------------------------\u001b[0m",
      "\u001b[1;31mAttributeError\u001b[0m                            Traceback (most recent call last)",
      "Input \u001b[1;32mIn [31]\u001b[0m, in \u001b[0;36m<cell line: 2>\u001b[1;34m()\u001b[0m\n\u001b[0;32m      1\u001b[0m \u001b[38;5;66;03m#number of non-null unique values for features in each dataset\u001b[39;00m\n\u001b[1;32m----> 2\u001b[0m \u001b[43malpha08\u001b[49m\u001b[38;5;241;43m.\u001b[39;49m\u001b[43malpha08\u001b[49m\u001b[38;5;241m.\u001b[39munique()\n",
      "File \u001b[1;32m~\\.conda\\envs\\Env_py\\lib\\site-packages\\pandas\\core\\generic.py:5575\u001b[0m, in \u001b[0;36mNDFrame.__getattr__\u001b[1;34m(self, name)\u001b[0m\n\u001b[0;32m   5568\u001b[0m \u001b[38;5;28;01mif\u001b[39;00m (\n\u001b[0;32m   5569\u001b[0m     name \u001b[38;5;129;01mnot\u001b[39;00m \u001b[38;5;129;01min\u001b[39;00m \u001b[38;5;28mself\u001b[39m\u001b[38;5;241m.\u001b[39m_internal_names_set\n\u001b[0;32m   5570\u001b[0m     \u001b[38;5;129;01mand\u001b[39;00m name \u001b[38;5;129;01mnot\u001b[39;00m \u001b[38;5;129;01min\u001b[39;00m \u001b[38;5;28mself\u001b[39m\u001b[38;5;241m.\u001b[39m_metadata\n\u001b[0;32m   5571\u001b[0m     \u001b[38;5;129;01mand\u001b[39;00m name \u001b[38;5;129;01mnot\u001b[39;00m \u001b[38;5;129;01min\u001b[39;00m \u001b[38;5;28mself\u001b[39m\u001b[38;5;241m.\u001b[39m_accessors\n\u001b[0;32m   5572\u001b[0m     \u001b[38;5;129;01mand\u001b[39;00m \u001b[38;5;28mself\u001b[39m\u001b[38;5;241m.\u001b[39m_info_axis\u001b[38;5;241m.\u001b[39m_can_hold_identifiers_and_holds_name(name)\n\u001b[0;32m   5573\u001b[0m ):\n\u001b[0;32m   5574\u001b[0m     \u001b[38;5;28;01mreturn\u001b[39;00m \u001b[38;5;28mself\u001b[39m[name]\n\u001b[1;32m-> 5575\u001b[0m \u001b[38;5;28;01mreturn\u001b[39;00m \u001b[38;5;28;43mobject\u001b[39;49m\u001b[38;5;241;43m.\u001b[39;49m\u001b[38;5;21;43m__getattribute__\u001b[39;49m\u001b[43m(\u001b[49m\u001b[38;5;28;43mself\u001b[39;49m\u001b[43m,\u001b[49m\u001b[43m \u001b[49m\u001b[43mname\u001b[49m\u001b[43m)\u001b[49m\n",
      "\u001b[1;31mAttributeError\u001b[0m: 'DataFrame' object has no attribute 'alpha08'"
     ]
    }
   ],
   "source": [
    "#number of non-null unique values for features in each dataset\n",
    "alpha08.unique().notnull().sum()"
   ]
  },
  {
   "cell_type": "code",
   "execution_count": null,
   "id": "3ed027aa",
   "metadata": {},
   "outputs": [],
   "source": [
    "#what those unique values are and counts for each"
   ]
  }
 ],
 "metadata": {
  "kernelspec": {
   "display_name": "Python 3 (ipykernel)",
   "language": "python",
   "name": "python3"
  },
  "language_info": {
   "codemirror_mode": {
    "name": "ipython",
    "version": 3
   },
   "file_extension": ".py",
   "mimetype": "text/x-python",
   "name": "python",
   "nbconvert_exporter": "python",
   "pygments_lexer": "ipython3",
   "version": "3.8.13"
  }
 },
 "nbformat": 4,
 "nbformat_minor": 5
}
