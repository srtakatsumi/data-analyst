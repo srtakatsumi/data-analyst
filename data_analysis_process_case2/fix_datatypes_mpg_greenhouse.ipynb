{
 "cells": [
  {
   "cell_type": "code",
   "execution_count": 1,
   "id": "3ade6c1f",
   "metadata": {},
   "outputs": [],
   "source": [
    "# load datasets\n",
    "import numpy as np\n",
    "import pandas as pd\n",
    "import matplotlib.pyplot as plt\n",
    "%matplotlib inline\n",
    "import seaborn as sns\n",
    "sns.set_style('darkgrid')\n",
    "\n",
    "alpha08 = pd.read_csv('data_08_v4.csv', sep = ';')\n",
    "alpha18 = pd.read_csv('data_18_v4.csv', sep = ';')"
   ]
  },
  {
   "cell_type": "code",
   "execution_count": 2,
   "id": "ac74581d",
   "metadata": {},
   "outputs": [],
   "source": [
    "# convert mpg columns to floats\n",
    "mpg_columns = ['city_mpg', 'hwy_mpg', 'cmb_mpg']\n",
    "\n",
    "for c in mpg_columns:\n",
    "    alpha08[c] = alpha08[c].astype(float)\n",
    "    alpha18[c] = alpha18[c].astype(float)"
   ]
  },
  {
   "cell_type": "code",
   "execution_count": 3,
   "id": "25899258",
   "metadata": {},
   "outputs": [],
   "source": [
    "# convert from float to int\n",
    "alpha08['greenhouse_gas_score'] = alpha08['greenhouse_gas_score'].astype(int)"
   ]
  },
  {
   "cell_type": "code",
   "execution_count": 4,
   "id": "81ab28ee",
   "metadata": {},
   "outputs": [
    {
     "data": {
      "text/plain": [
       "model                    object\n",
       "displ                   float64\n",
       "cyl                       int64\n",
       "trans                    object\n",
       "drive                    object\n",
       "fuel                     object\n",
       "veh_class                object\n",
       "air_pollution_score     float64\n",
       "city_mpg                float64\n",
       "hwy_mpg                 float64\n",
       "cmb_mpg                 float64\n",
       "greenhouse_gas_score      int32\n",
       "smartway                 object\n",
       "dtype: object"
      ]
     },
     "execution_count": 4,
     "metadata": {},
     "output_type": "execute_result"
    }
   ],
   "source": [
    "alpha08.dtypes"
   ]
  },
  {
   "cell_type": "code",
   "execution_count": 5,
   "id": "e9ae8ac0",
   "metadata": {},
   "outputs": [
    {
     "data": {
      "text/plain": [
       "model                    object\n",
       "displ                   float64\n",
       "cyl                       int64\n",
       "trans                    object\n",
       "drive                    object\n",
       "fuel                     object\n",
       "veh_class                object\n",
       "air_pollution_score     float64\n",
       "city_mpg                float64\n",
       "hwy_mpg                 float64\n",
       "cmb_mpg                 float64\n",
       "greenhouse_gas_score      int64\n",
       "smartway                 object\n",
       "dtype: object"
      ]
     },
     "execution_count": 5,
     "metadata": {},
     "output_type": "execute_result"
    }
   ],
   "source": [
    "alpha18.dtypes"
   ]
  },
  {
   "cell_type": "code",
   "execution_count": 6,
   "id": "005bd754",
   "metadata": {},
   "outputs": [
    {
     "data": {
      "text/plain": [
       "model                    True\n",
       "displ                    True\n",
       "cyl                      True\n",
       "trans                    True\n",
       "drive                    True\n",
       "fuel                     True\n",
       "veh_class                True\n",
       "air_pollution_score      True\n",
       "city_mpg                 True\n",
       "hwy_mpg                  True\n",
       "cmb_mpg                  True\n",
       "greenhouse_gas_score    False\n",
       "smartway                 True\n",
       "dtype: bool"
      ]
     },
     "execution_count": 6,
     "metadata": {},
     "output_type": "execute_result"
    }
   ],
   "source": [
    "alpha08.dtypes == alpha18.dtypes"
   ]
  },
  {
   "cell_type": "code",
   "execution_count": 7,
   "id": "53fd59ac",
   "metadata": {},
   "outputs": [],
   "source": [
    "# Save your final CLEAN datasets as new files!\n",
    "alpha08.to_csv('clean_08.csv', index=False, sep = ';')\n",
    "alpha18.to_csv('clean_18.csv', index=False, sep = ';')"
   ]
  }
 ],
 "metadata": {
  "kernelspec": {
   "display_name": "Python 3 (ipykernel)",
   "language": "python",
   "name": "python3"
  },
  "language_info": {
   "codemirror_mode": {
    "name": "ipython",
    "version": 3
   },
   "file_extension": ".py",
   "mimetype": "text/x-python",
   "name": "python",
   "nbconvert_exporter": "python",
   "pygments_lexer": "ipython3",
   "version": "3.8.13"
  }
 },
 "nbformat": 4,
 "nbformat_minor": 5
}
