{
 "cells": [
  {
   "cell_type": "code",
   "execution_count": 4,
   "id": "21ef5de1",
   "metadata": {},
   "outputs": [],
   "source": [
    "import numpy as np"
   ]
  },
  {
   "cell_type": "code",
   "execution_count": 5,
   "id": "9dd9dbb4",
   "metadata": {},
   "outputs": [],
   "source": [
    "a= np.random.random(int(1e8))"
   ]
  },
  {
   "cell_type": "code",
   "execution_count": 6,
   "id": "48fbc055",
   "metadata": {},
   "outputs": [
    {
     "data": {
      "text/plain": [
       "array([0.31329921, 0.30521775, 0.85382859, ..., 0.93352503, 0.95735698,\n",
       "       0.78955803])"
      ]
     },
     "execution_count": 6,
     "metadata": {},
     "output_type": "execute_result"
    }
   ],
   "source": [
    "a"
   ]
  },
  {
   "cell_type": "code",
   "execution_count": 2,
   "id": "5c078012",
   "metadata": {},
   "outputs": [
    {
     "name": "stdout",
     "output_type": "stream",
     "text": [
      "10.265998125076294 seconds\n"
     ]
    }
   ],
   "source": [
    "import time\n",
    "start=time.time()\n",
    "sum(a) / len(a)\n",
    "print(time.time() - start, 'seconds')"
   ]
  },
  {
   "cell_type": "code",
   "execution_count": 3,
   "id": "105e6bb2",
   "metadata": {},
   "outputs": [
    {
     "name": "stdout",
     "output_type": "stream",
     "text": [
      "0.1309962272644043 seconds\n"
     ]
    }
   ],
   "source": [
    "start = time.time()\n",
    "np.mean(a)\n",
    "print(time.time() - start, 'seconds')"
   ]
  },
  {
   "cell_type": "code",
   "execution_count": null,
   "id": "aad045b0",
   "metadata": {},
   "outputs": [],
   "source": []
  }
 ],
 "metadata": {
  "kernelspec": {
   "display_name": "Python 3 (ipykernel)",
   "language": "python",
   "name": "python3"
  },
  "language_info": {
   "codemirror_mode": {
    "name": "ipython",
    "version": 3
   },
   "file_extension": ".py",
   "mimetype": "text/x-python",
   "name": "python",
   "nbconvert_exporter": "python",
   "pygments_lexer": "ipython3",
   "version": "3.8.13"
  }
 },
 "nbformat": 4,
 "nbformat_minor": 5
}
