{
 "cells": [
  {
   "cell_type": "code",
   "execution_count": 1,
   "id": "cc1d0159",
   "metadata": {},
   "outputs": [],
   "source": [
    "# load datasets\n",
    "\n",
    "import numpy as np\n",
    "import pandas as pd\n",
    "import matplotlib.pyplot as plt\n",
    "%matplotlib inline\n",
    "import seaborn as sns\n",
    "sns.set_style('darkgrid')\n",
    "\n",
    "df = pd.read_csv('combined_dataset.csv', sep = ';')"
   ]
  },
  {
   "cell_type": "code",
   "execution_count": 2,
   "id": "f452a639",
   "metadata": {},
   "outputs": [
    {
     "name": "stdout",
     "output_type": "stream",
     "text": [
      "<class 'pandas.core.frame.DataFrame'>\n",
      "RangeIndex: 922 entries, 0 to 921\n",
      "Data columns (total 26 columns):\n",
      " #   Column                     Non-Null Count  Dtype  \n",
      "---  ------                     --------------  -----  \n",
      " 0   model_2008                 922 non-null    object \n",
      " 1   displ_2008                 922 non-null    float64\n",
      " 2   cyl_2008                   922 non-null    int64  \n",
      " 3   trans_2008                 922 non-null    object \n",
      " 4   drive_2008                 922 non-null    object \n",
      " 5   fuel_2008                  922 non-null    object \n",
      " 6   veh_class_2008             922 non-null    object \n",
      " 7   air_pollution_score_2008   922 non-null    float64\n",
      " 8   city_mpg_2008              922 non-null    float64\n",
      " 9   hwy_mpg_2008               922 non-null    float64\n",
      " 10  cmb_mpg_2008               922 non-null    float64\n",
      " 11  greenhouse_gas_score_2008  922 non-null    int64  \n",
      " 12  smartway_2008              922 non-null    object \n",
      " 13  model_2018                 922 non-null    object \n",
      " 14  displ_2018                 922 non-null    float64\n",
      " 15  cyl_2018                   922 non-null    int64  \n",
      " 16  trans_2018                 922 non-null    object \n",
      " 17  drive_2018                 922 non-null    object \n",
      " 18  fuel_2018                  922 non-null    object \n",
      " 19  veh_class_2018             922 non-null    object \n",
      " 20  air_pollution_score_2018   922 non-null    float64\n",
      " 21  city_mpg_2018              922 non-null    float64\n",
      " 22  hwy_mpg_2018               922 non-null    float64\n",
      " 23  cmb_mpg_2018               922 non-null    float64\n",
      " 24  greenhouse_gas_score_2018  922 non-null    int64  \n",
      " 25  smartway_2018              922 non-null    object \n",
      "dtypes: float64(10), int64(4), object(12)\n",
      "memory usage: 187.4+ KB\n"
     ]
    }
   ],
   "source": [
    "df.info()"
   ]
  },
  {
   "cell_type": "code",
   "execution_count": 3,
   "id": "1ad98429",
   "metadata": {},
   "outputs": [
    {
     "data": {
      "text/plain": [
       "(922, 26)"
      ]
     },
     "execution_count": 3,
     "metadata": {},
     "output_type": "execute_result"
    }
   ],
   "source": [
    "df.shape"
   ]
  },
  {
   "cell_type": "markdown",
   "id": "65ba3db9",
   "metadata": {},
   "source": [
    "### 1. Create a new dataframe, `model_mpg`, that contain the mean combined mpg values in 2008 and 2018 for each unique model"
   ]
  },
  {
   "cell_type": "code",
   "execution_count": 4,
   "id": "689ec2d2",
   "metadata": {},
   "outputs": [],
   "source": [
    "model_mpg = df.groupby('model_2018').mean()[['cmb_mpg_2008', 'cmb_mpg_2018']]"
   ]
  },
  {
   "cell_type": "code",
   "execution_count": 5,
   "id": "fae373bd",
   "metadata": {},
   "outputs": [
    {
     "data": {
      "text/html": [
       "<div>\n",
       "<style scoped>\n",
       "    .dataframe tbody tr th:only-of-type {\n",
       "        vertical-align: middle;\n",
       "    }\n",
       "\n",
       "    .dataframe tbody tr th {\n",
       "        vertical-align: top;\n",
       "    }\n",
       "\n",
       "    .dataframe thead th {\n",
       "        text-align: right;\n",
       "    }\n",
       "</style>\n",
       "<table border=\"1\" class=\"dataframe\">\n",
       "  <thead>\n",
       "    <tr style=\"text-align: right;\">\n",
       "      <th></th>\n",
       "      <th>cmb_mpg_2008</th>\n",
       "      <th>cmb_mpg_2018</th>\n",
       "    </tr>\n",
       "    <tr>\n",
       "      <th>model_2018</th>\n",
       "      <th></th>\n",
       "      <th></th>\n",
       "    </tr>\n",
       "  </thead>\n",
       "  <tbody>\n",
       "    <tr>\n",
       "      <th>ACURA RDX</th>\n",
       "      <td>19.000000</td>\n",
       "      <td>22.500000</td>\n",
       "    </tr>\n",
       "    <tr>\n",
       "      <th>AUDI A3</th>\n",
       "      <td>23.333333</td>\n",
       "      <td>28.000000</td>\n",
       "    </tr>\n",
       "    <tr>\n",
       "      <th>AUDI A4</th>\n",
       "      <td>21.000000</td>\n",
       "      <td>27.000000</td>\n",
       "    </tr>\n",
       "    <tr>\n",
       "      <th>AUDI A6</th>\n",
       "      <td>19.666667</td>\n",
       "      <td>25.666667</td>\n",
       "    </tr>\n",
       "    <tr>\n",
       "      <th>AUDI A8 L</th>\n",
       "      <td>16.500000</td>\n",
       "      <td>22.000000</td>\n",
       "    </tr>\n",
       "  </tbody>\n",
       "</table>\n",
       "</div>"
      ],
      "text/plain": [
       "            cmb_mpg_2008  cmb_mpg_2018\n",
       "model_2018                            \n",
       "ACURA RDX      19.000000     22.500000\n",
       "AUDI A3        23.333333     28.000000\n",
       "AUDI A4        21.000000     27.000000\n",
       "AUDI A6        19.666667     25.666667\n",
       "AUDI A8 L      16.500000     22.000000"
      ]
     },
     "execution_count": 5,
     "metadata": {},
     "output_type": "execute_result"
    }
   ],
   "source": [
    "model_mpg.head()"
   ]
  },
  {
   "cell_type": "markdown",
   "id": "bd8c684b",
   "metadata": {},
   "source": [
    "### 2. Create a new column, `mpg_change`, with the change in mpg"
   ]
  },
  {
   "cell_type": "code",
   "execution_count": 6,
   "id": "6c0b14d9",
   "metadata": {},
   "outputs": [],
   "source": [
    "model_mpg['mpg_change_2018'] = model_mpg['cmb_mpg_2018'] - model_mpg['cmb_mpg_2008']"
   ]
  },
  {
   "cell_type": "code",
   "execution_count": 7,
   "id": "57f7ef4a",
   "metadata": {},
   "outputs": [
    {
     "data": {
      "text/html": [
       "<div>\n",
       "<style scoped>\n",
       "    .dataframe tbody tr th:only-of-type {\n",
       "        vertical-align: middle;\n",
       "    }\n",
       "\n",
       "    .dataframe tbody tr th {\n",
       "        vertical-align: top;\n",
       "    }\n",
       "\n",
       "    .dataframe thead th {\n",
       "        text-align: right;\n",
       "    }\n",
       "</style>\n",
       "<table border=\"1\" class=\"dataframe\">\n",
       "  <thead>\n",
       "    <tr style=\"text-align: right;\">\n",
       "      <th></th>\n",
       "      <th>cmb_mpg_2008</th>\n",
       "      <th>cmb_mpg_2018</th>\n",
       "      <th>mpg_change_2018</th>\n",
       "    </tr>\n",
       "    <tr>\n",
       "      <th>model_2018</th>\n",
       "      <th></th>\n",
       "      <th></th>\n",
       "      <th></th>\n",
       "    </tr>\n",
       "  </thead>\n",
       "  <tbody>\n",
       "    <tr>\n",
       "      <th>ACURA RDX</th>\n",
       "      <td>19.000000</td>\n",
       "      <td>22.500000</td>\n",
       "      <td>3.500000</td>\n",
       "    </tr>\n",
       "    <tr>\n",
       "      <th>AUDI A3</th>\n",
       "      <td>23.333333</td>\n",
       "      <td>28.000000</td>\n",
       "      <td>4.666667</td>\n",
       "    </tr>\n",
       "    <tr>\n",
       "      <th>AUDI A4</th>\n",
       "      <td>21.000000</td>\n",
       "      <td>27.000000</td>\n",
       "      <td>6.000000</td>\n",
       "    </tr>\n",
       "    <tr>\n",
       "      <th>AUDI A6</th>\n",
       "      <td>19.666667</td>\n",
       "      <td>25.666667</td>\n",
       "      <td>6.000000</td>\n",
       "    </tr>\n",
       "    <tr>\n",
       "      <th>AUDI A8 L</th>\n",
       "      <td>16.500000</td>\n",
       "      <td>22.000000</td>\n",
       "      <td>5.500000</td>\n",
       "    </tr>\n",
       "  </tbody>\n",
       "</table>\n",
       "</div>"
      ],
      "text/plain": [
       "            cmb_mpg_2008  cmb_mpg_2018  mpg_change_2018\n",
       "model_2018                                             \n",
       "ACURA RDX      19.000000     22.500000         3.500000\n",
       "AUDI A3        23.333333     28.000000         4.666667\n",
       "AUDI A4        21.000000     27.000000         6.000000\n",
       "AUDI A6        19.666667     25.666667         6.000000\n",
       "AUDI A8 L      16.500000     22.000000         5.500000"
      ]
     },
     "execution_count": 7,
     "metadata": {},
     "output_type": "execute_result"
    }
   ],
   "source": [
    "model_mpg.head()"
   ]
  },
  {
   "cell_type": "markdown",
   "id": "106574a9",
   "metadata": {},
   "source": [
    "### 3. Find the vehicle that improved the most"
   ]
  },
  {
   "cell_type": "code",
   "execution_count": 8,
   "id": "13814bb1",
   "metadata": {},
   "outputs": [
    {
     "data": {
      "text/plain": [
       "16.53333333333334"
      ]
     },
     "execution_count": 8,
     "metadata": {},
     "output_type": "execute_result"
    }
   ],
   "source": [
    "max_change = model_mpg['mpg_change_2018'].max()\n",
    "max_change"
   ]
  },
  {
   "cell_type": "code",
   "execution_count": 9,
   "id": "11221bcd",
   "metadata": {},
   "outputs": [
    {
     "data": {
      "text/html": [
       "<div>\n",
       "<style scoped>\n",
       "    .dataframe tbody tr th:only-of-type {\n",
       "        vertical-align: middle;\n",
       "    }\n",
       "\n",
       "    .dataframe tbody tr th {\n",
       "        vertical-align: top;\n",
       "    }\n",
       "\n",
       "    .dataframe thead th {\n",
       "        text-align: right;\n",
       "    }\n",
       "</style>\n",
       "<table border=\"1\" class=\"dataframe\">\n",
       "  <thead>\n",
       "    <tr style=\"text-align: right;\">\n",
       "      <th></th>\n",
       "      <th>cmb_mpg_2008</th>\n",
       "      <th>cmb_mpg_2018</th>\n",
       "      <th>mpg_change_2018</th>\n",
       "    </tr>\n",
       "    <tr>\n",
       "      <th>model_2018</th>\n",
       "      <th></th>\n",
       "      <th></th>\n",
       "      <th></th>\n",
       "    </tr>\n",
       "  </thead>\n",
       "  <tbody>\n",
       "    <tr>\n",
       "      <th>VOLVO XC 90</th>\n",
       "      <td>15.666667</td>\n",
       "      <td>32.2</td>\n",
       "      <td>16.533333</td>\n",
       "    </tr>\n",
       "  </tbody>\n",
       "</table>\n",
       "</div>"
      ],
      "text/plain": [
       "             cmb_mpg_2008  cmb_mpg_2018  mpg_change_2018\n",
       "model_2018                                              \n",
       "VOLVO XC 90     15.666667          32.2        16.533333"
      ]
     },
     "execution_count": 9,
     "metadata": {},
     "output_type": "execute_result"
    }
   ],
   "source": [
    "model_mpg[model_mpg['mpg_change_2018'] == max_change]"
   ]
  },
  {
   "cell_type": "code",
   "execution_count": 10,
   "id": "e2d1270a",
   "metadata": {},
   "outputs": [
    {
     "data": {
      "text/plain": [
       "'VOLVO XC 90'"
      ]
     },
     "execution_count": 10,
     "metadata": {},
     "output_type": "execute_result"
    }
   ],
   "source": [
    "idx = model_mpg.mpg_change_2018.idxmax()\n",
    "idx"
   ]
  },
  {
   "cell_type": "code",
   "execution_count": 11,
   "id": "ea22bec7",
   "metadata": {},
   "outputs": [
    {
     "data": {
      "text/plain": [
       "cmb_mpg_2008       15.666667\n",
       "cmb_mpg_2018       32.200000\n",
       "mpg_change_2018    16.533333\n",
       "Name: VOLVO XC 90, dtype: float64"
      ]
     },
     "execution_count": 11,
     "metadata": {},
     "output_type": "execute_result"
    }
   ],
   "source": [
    "model_mpg.loc[idx]"
   ]
  },
  {
   "cell_type": "code",
   "execution_count": null,
   "id": "8978bb6c",
   "metadata": {},
   "outputs": [],
   "source": []
  }
 ],
 "metadata": {
  "kernelspec": {
   "display_name": "Python 3 (ipykernel)",
   "language": "python",
   "name": "python3"
  },
  "language_info": {
   "codemirror_mode": {
    "name": "ipython",
    "version": 3
   },
   "file_extension": ".py",
   "mimetype": "text/x-python",
   "name": "python",
   "nbconvert_exporter": "python",
   "pygments_lexer": "ipython3",
   "version": "3.8.13"
  }
 },
 "nbformat": 4,
 "nbformat_minor": 5
}
