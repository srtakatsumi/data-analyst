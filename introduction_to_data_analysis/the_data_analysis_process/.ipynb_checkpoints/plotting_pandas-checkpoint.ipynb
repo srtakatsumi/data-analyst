{
 "cells": [
  {
   "cell_type": "code",
   "execution_count": 1,
   "id": "025b2825",
   "metadata": {},
   "outputs": [
    {
     "name": "stderr",
     "output_type": "stream",
     "text": [
      "UsageError: Line magic function `%` not found.\n"
     ]
    }
   ],
   "source": [
    "import pandas as pd\n",
    "% matplotlib inline\n",
    "\n",
    "df_census = pd.read_csv('census_income_data.csv')\n",
    "df_census.info()"
   ]
  },
  {
   "cell_type": "code",
   "execution_count": null,
   "id": "ef4881e9",
   "metadata": {},
   "outputs": [],
   "source": [
    "df_census.hist(figsize = (8,8));"
   ]
  },
  {
   "cell_type": "code",
   "execution_count": null,
   "id": "61385fa8",
   "metadata": {},
   "outputs": [],
   "source": [
    "df_census['education'].value_counts().plot(kind='bar');"
   ]
  },
  {
   "cell_type": "code",
   "execution_count": null,
   "id": "00a3904c",
   "metadata": {},
   "outputs": [],
   "source": [
    "df_census['workclass'].value_counts().plot(kind='pie', figsize= (8,8));"
   ]
  },
  {
   "cell_type": "code",
   "execution_count": null,
   "id": "e49f411b",
   "metadata": {},
   "outputs": [],
   "source": [
    "df_cancer = pd.read_csv('cancer_data.csv')\n",
    "df_cancer.info()"
   ]
  },
  {
   "cell_type": "code",
   "execution_count": null,
   "id": "9f5858ad",
   "metadata": {},
   "outputs": [],
   "source": [
    "pd.plotting.scatter_matrix(df_cancer, figsize = (15,15));"
   ]
  },
  {
   "cell_type": "code",
   "execution_count": null,
   "id": "acc7da32",
   "metadata": {},
   "outputs": [],
   "source": [
    "df_cancer.plot(x='compactness', y= 'concavity', kind = 'scatter');"
   ]
  },
  {
   "cell_type": "code",
   "execution_count": null,
   "id": "949182d9",
   "metadata": {},
   "outputs": [],
   "source": [
    "df_cancer['concave_points'].plot(kind = 'box');"
   ]
  }
 ],
 "metadata": {
  "kernelspec": {
   "display_name": "Python 3 (ipykernel)",
   "language": "python",
   "name": "python3"
  },
  "language_info": {
   "codemirror_mode": {
    "name": "ipython",
    "version": 3
   },
   "file_extension": ".py",
   "mimetype": "text/x-python",
   "name": "python",
   "nbconvert_exporter": "python",
   "pygments_lexer": "ipython3",
   "version": "3.8.13"
  }
 },
 "nbformat": 4,
 "nbformat_minor": 5
}
