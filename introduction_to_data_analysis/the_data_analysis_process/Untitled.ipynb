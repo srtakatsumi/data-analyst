{
 "cells": [
  {
   "cell_type": "code",
   "execution_count": null,
   "id": "47245bc9",
   "metadata": {},
   "outputs": [],
   "source": [
    "# Import pandas\n",
    "import pandas as pd\n",
    "\n",
    "# Load census income data\n",
    "df = pd.read_csv('census_income_data.csv')"
   ]
  },
  {
   "cell_type": "code",
   "execution_count": null,
   "id": "8dcb941d",
   "metadata": {},
   "outputs": [],
   "source": [
    "# Work to answer the quiz questions\n",
    "df.shape"
   ]
  },
  {
   "cell_type": "code",
   "execution_count": null,
   "id": "63660226",
   "metadata": {},
   "outputs": [],
   "source": [
    "df.info()"
   ]
  },
  {
   "cell_type": "code",
   "execution_count": null,
   "id": "10ca5fe4",
   "metadata": {},
   "outputs": [],
   "source": [
    "df.education.nunique()"
   ]
  },
  {
   "cell_type": "code",
   "execution_count": null,
   "id": "661d2699",
   "metadata": {},
   "outputs": [],
   "source": [
    "df.describe()"
   ]
  }
 ],
 "metadata": {
  "kernelspec": {
   "display_name": "Python 3 (ipykernel)",
   "language": "python",
   "name": "python3"
  },
  "language_info": {
   "codemirror_mode": {
    "name": "ipython",
    "version": 3
   },
   "file_extension": ".py",
   "mimetype": "text/x-python",
   "name": "python",
   "nbconvert_exporter": "python",
   "pygments_lexer": "ipython3",
   "version": "3.8.13"
  }
 },
 "nbformat": 4,
 "nbformat_minor": 5
}
