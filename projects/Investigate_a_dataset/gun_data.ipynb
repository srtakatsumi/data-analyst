{
 "cells": [
  {
   "cell_type": "code",
   "execution_count": 8,
   "id": "1de65e7d",
   "metadata": {},
   "outputs": [],
   "source": [
    "import numpy as np\n",
    "import pandas as pd\n",
    "import matplotlib.pyplot as plt\n",
    "import seaborn as sns\n",
    "import xlrd\n",
    "%matplotlib inline\n",
    "sns.set_style('darkgrid')"
   ]
  },
  {
   "cell_type": "code",
   "execution_count": 9,
   "id": "fc447c4e",
   "metadata": {},
   "outputs": [],
   "source": [
    "gd = pd.read_excel('gun_data.xlsx', engine=\"openpyxl\")"
   ]
  },
  {
   "cell_type": "code",
   "execution_count": 36,
   "id": "3f3cdb45",
   "metadata": {},
   "outputs": [
    {
     "data": {
      "text/html": [
       "<div>\n",
       "<style scoped>\n",
       "    .dataframe tbody tr th:only-of-type {\n",
       "        vertical-align: middle;\n",
       "    }\n",
       "\n",
       "    .dataframe tbody tr th {\n",
       "        vertical-align: top;\n",
       "    }\n",
       "\n",
       "    .dataframe thead th {\n",
       "        text-align: right;\n",
       "    }\n",
       "</style>\n",
       "<table border=\"1\" class=\"dataframe\">\n",
       "  <thead>\n",
       "    <tr style=\"text-align: right;\">\n",
       "      <th></th>\n",
       "      <th>month</th>\n",
       "      <th>state</th>\n",
       "      <th>permit</th>\n",
       "      <th>permit_recheck</th>\n",
       "      <th>handgun</th>\n",
       "      <th>long_gun</th>\n",
       "      <th>other</th>\n",
       "      <th>multiple</th>\n",
       "      <th>admin</th>\n",
       "      <th>prepawn_handgun</th>\n",
       "      <th>...</th>\n",
       "      <th>returned_other</th>\n",
       "      <th>rentals_handgun</th>\n",
       "      <th>rentals_long_gun</th>\n",
       "      <th>private_sale_handgun</th>\n",
       "      <th>private_sale_long_gun</th>\n",
       "      <th>private_sale_other</th>\n",
       "      <th>return_to_seller_handgun</th>\n",
       "      <th>return_to_seller_long_gun</th>\n",
       "      <th>return_to_seller_other</th>\n",
       "      <th>totals</th>\n",
       "    </tr>\n",
       "  </thead>\n",
       "  <tbody>\n",
       "    <tr>\n",
       "      <th>0</th>\n",
       "      <td>2017-09</td>\n",
       "      <td>Alabama</td>\n",
       "      <td>16717.0</td>\n",
       "      <td>0.0</td>\n",
       "      <td>5734.0</td>\n",
       "      <td>6320.0</td>\n",
       "      <td>221.0</td>\n",
       "      <td>317</td>\n",
       "      <td>0.0</td>\n",
       "      <td>15.0</td>\n",
       "      <td>...</td>\n",
       "      <td>0.0</td>\n",
       "      <td>0.0</td>\n",
       "      <td>0.0</td>\n",
       "      <td>9.0</td>\n",
       "      <td>16.0</td>\n",
       "      <td>3.0</td>\n",
       "      <td>0.0</td>\n",
       "      <td>0.0</td>\n",
       "      <td>3.0</td>\n",
       "      <td>32019</td>\n",
       "    </tr>\n",
       "  </tbody>\n",
       "</table>\n",
       "<p>1 rows × 27 columns</p>\n",
       "</div>"
      ],
      "text/plain": [
       "     month    state   permit  permit_recheck  handgun  long_gun  other  \\\n",
       "0  2017-09  Alabama  16717.0             0.0   5734.0    6320.0  221.0   \n",
       "\n",
       "   multiple  admin  prepawn_handgun  ...  returned_other  rentals_handgun  \\\n",
       "0       317    0.0             15.0  ...             0.0              0.0   \n",
       "\n",
       "   rentals_long_gun  private_sale_handgun  private_sale_long_gun  \\\n",
       "0               0.0                   9.0                   16.0   \n",
       "\n",
       "   private_sale_other  return_to_seller_handgun  return_to_seller_long_gun  \\\n",
       "0                 3.0                       0.0                        0.0   \n",
       "\n",
       "   return_to_seller_other  totals  \n",
       "0                     3.0   32019  \n",
       "\n",
       "[1 rows x 27 columns]"
      ]
     },
     "execution_count": 36,
     "metadata": {},
     "output_type": "execute_result"
    }
   ],
   "source": [
    "gd.head(1)"
   ]
  },
  {
   "cell_type": "code",
   "execution_count": 22,
   "id": "4af36cf1",
   "metadata": {},
   "outputs": [],
   "source": [
    "#gd.shape"
   ]
  },
  {
   "cell_type": "code",
   "execution_count": 28,
   "id": "77b0b383",
   "metadata": {},
   "outputs": [
    {
     "name": "stdout",
     "output_type": "stream",
     "text": [
      "0\n"
     ]
    }
   ],
   "source": [
    "#print(gd.duplicated().sum())"
   ]
  },
  {
   "cell_type": "code",
   "execution_count": 37,
   "id": "8298d8c3",
   "metadata": {},
   "outputs": [
    {
     "data": {
      "text/plain": [
       "month                         object\n",
       "state                         object\n",
       "permit                       float64\n",
       "permit_recheck               float64\n",
       "handgun                      float64\n",
       "long_gun                     float64\n",
       "other                        float64\n",
       "multiple                       int64\n",
       "admin                        float64\n",
       "prepawn_handgun              float64\n",
       "prepawn_long_gun             float64\n",
       "prepawn_other                float64\n",
       "redemption_handgun           float64\n",
       "redemption_long_gun          float64\n",
       "redemption_other             float64\n",
       "returned_handgun             float64\n",
       "returned_long_gun            float64\n",
       "returned_other               float64\n",
       "rentals_handgun              float64\n",
       "rentals_long_gun             float64\n",
       "private_sale_handgun         float64\n",
       "private_sale_long_gun        float64\n",
       "private_sale_other           float64\n",
       "return_to_seller_handgun     float64\n",
       "return_to_seller_long_gun    float64\n",
       "return_to_seller_other       float64\n",
       "totals                         int64\n",
       "dtype: object"
      ]
     },
     "execution_count": 37,
     "metadata": {},
     "output_type": "execute_result"
    }
   ],
   "source": [
    "gd.dtypes"
   ]
  },
  {
   "cell_type": "code",
   "execution_count": 25,
   "id": "f91537ad",
   "metadata": {},
   "outputs": [],
   "source": [
    "#gd.describe()"
   ]
  },
  {
   "cell_type": "code",
   "execution_count": 26,
   "id": "732aacdd",
   "metadata": {},
   "outputs": [],
   "source": [
    "#gd.info()"
   ]
  },
  {
   "cell_type": "code",
   "execution_count": 27,
   "id": "b9141817",
   "metadata": {},
   "outputs": [],
   "source": [
    "#gun.isnull().sum()"
   ]
  },
  {
   "cell_type": "code",
   "execution_count": 20,
   "id": "d31f286d",
   "metadata": {},
   "outputs": [],
   "source": [
    "#gd.nunique() or unique()"
   ]
  },
  {
   "cell_type": "code",
   "execution_count": 34,
   "id": "eba6779d",
   "metadata": {},
   "outputs": [],
   "source": [
    "#gd.groupby(['state'], as_index=False)['handgun'].mean()"
   ]
  },
  {
   "cell_type": "code",
   "execution_count": 35,
   "id": "e3d0889a",
   "metadata": {},
   "outputs": [
    {
     "data": {
      "text/plain": [
       "<AxesSubplot:>"
      ]
     },
     "execution_count": 35,
     "metadata": {},
     "output_type": "execute_result"
    },
    {
     "data": {
      "image/png": "[encoded data removed]",
      "text/plain": [
       "<Figure size 432x288 with 1 Axes>"
      ]
     },
     "metadata": {
      "needs_background": "light"
     },
     "output_type": "display_data"
    }
   ],
   "source": [
    "gd.handgun.hist()"
   ]
  },
  {
   "cell_type": "markdown",
   "id": "f5475faf",
   "metadata": {},
   "source": [
    "graphic\n",
    "gd.column.hist()\n",
    ".plot(x=\"displ\", y=\"cmb_mpg\", kind=\"scatter\");\n",
    "\n",
    "count columns .value_counts()\n",
    "\n",
    "______________________________\n",
    "alt_08 = alpha08.query('fuel in [\"CNG\", \"ethanol\"]').model.nunique()\n",
    "alt_08\n",
    "\n",
    "alt_18 = alpha18.query('fuel in [\"Ethanol\", \"Electricity\"]').model.nunique()\n",
    "alt_18\n",
    "\n",
    "plt.bar([\"2008\", \"2018\"], [alt_08, alt_18])\n",
    "plt.title(\"Number of Unique Models Using Alternative Fuels\")\n",
    "plt.xlabel(\"Year\")\n",
    "plt.ylabel(\"Number of Unique Models\");\n"
   ]
  },
  {
   "cell_type": "markdown",
   "id": "3a766bb6",
   "metadata": {},
   "source": [
    "veh_18 = gd.groupby('month').mean()\n",
    "veh_18\n",
    "\n",
    "\n",
    "inc.dropna(inplace=True)\n",
    "plt.subplots(figsize=(8, 5))\n",
    "plt.bar(inc.index, inc)\n",
    "plt.title('Improvements in Fuel Economy from 2008 to 2018 by Vehicle Class')\n",
    "plt.xlabel('Vehicle Class')\n",
    "plt.ylabel('Increase in Average Combined MPG');\n",
    "\n",
    "'private_sale_handgun','private_sale_long gun', 'private_sale_other'\n",
    "\n"
   ]
  },
  {
   "cell_type": "code",
   "execution_count": 49,
   "id": "2916b6b7",
   "metadata": {},
   "outputs": [],
   "source": [
    "#veh_18 = gd.groupby(['private_sale_handgun','private_sale_long_gun', 'private_sale_other']).month.sum()\n",
    " \n",
    "#veh_18"
   ]
  },
  {
   "cell_type": "markdown",
   "id": "ee72632d",
   "metadata": {},
   "source": [
    "gd1 = gd.query('month in [\"private_sale_handgun\"]').month.sum()\n",
    "gd2 = gd.query('month in [\"private_sale_long_gun\"]').month.sum()\n",
    "gd3 = gd.query('month in [\"private_sale_other\"]').month.sum()"
   ]
  },
  {
   "cell_type": "markdown",
   "id": "87cf4f98",
   "metadata": {},
   "source": [
    "plt.bar([\"private_sale_handgun\", \"private_sale_long_gun\",\"private_sale_other\"], [gd1, gd2, gd3])\n",
    "plt.title(\"Number of Unique Models Using Alternative Fuels\")\n",
    "plt.xlabel(\"Year\")\n",
    "plt.ylabel(\"Number of Unique Models\");"
   ]
  },
  {
   "cell_type": "code",
   "execution_count": 58,
   "id": "7756af0e",
   "metadata": {},
   "outputs": [
    {
     "data": {
      "text/plain": [
       "<AxesSubplot:>"
      ]
     },
     "execution_count": 58,
     "metadata": {},
     "output_type": "execute_result"
    },
    {
     "data": {
      "image/png": "[encoded data removed]",
      "text/plain": [
       "<Figure size 432x288 with 1 Axes>"
      ]
     },
     "metadata": {
      "needs_background": "light"
     },
     "output_type": "display_data"
    }
   ],
   "source": [
    "gd.private_sale_handgun.hist()"
   ]
  },
  {
   "cell_type": "code",
   "execution_count": 59,
   "id": "00e4d5c7",
   "metadata": {},
   "outputs": [
    {
     "data": {
      "text/plain": [
       "<AxesSubplot:>"
      ]
     },
     "execution_count": 59,
     "metadata": {},
     "output_type": "execute_result"
    },
    {
     "data": {
      "image/png": "[encoded data removed]",
      "text/plain": [
       "<Figure size 432x288 with 1 Axes>"
      ]
     },
     "metadata": {
      "needs_background": "light"
     },
     "output_type": "display_data"
    }
   ],
   "source": [
    "gd.private_sale_long_gun.hist()"
   ]
  },
  {
   "cell_type": "code",
   "execution_count": 60,
   "id": "4447121c",
   "metadata": {},
   "outputs": [
    {
     "data": {
      "text/plain": [
       "<AxesSubplot:>"
      ]
     },
     "execution_count": 60,
     "metadata": {},
     "output_type": "execute_result"
    },
    {
     "data": {
      "image/png": "[encoded data removed]",
      "text/plain": [
       "<Figure size 432x288 with 1 Axes>"
      ]
     },
     "metadata": {
      "needs_background": "light"
     },
     "output_type": "display_data"
    }
   ],
   "source": [
    "gd.private_sale_other.hist()"
   ]
  },
  {
   "cell_type": "code",
   "execution_count": null,
   "id": "f3d94477",
   "metadata": {},
   "outputs": [],
   "source": []
  }
 ],
 "metadata": {
  "kernelspec": {
   "display_name": "Python 3 (ipykernel)",
   "language": "python",
   "name": "python3"
  },
  "language_info": {
   "codemirror_mode": {
    "name": "ipython",
    "version": 3
   },
   "file_extension": ".py",
   "mimetype": "text/x-python",
   "name": "python",
   "nbconvert_exporter": "python",
   "pygments_lexer": "ipython3",
   "version": "3.8.13"
  }
 },
 "nbformat": 4,
 "nbformat_minor": 5
}
